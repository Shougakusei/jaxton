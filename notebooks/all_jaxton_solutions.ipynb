{
 "cells": [
  {
   "cell_type": "markdown",
   "id": "7f25a744",
   "metadata": {
    "papermill": {
     "duration": 0.077738,
     "end_time": "2022-03-24T14:48:12.737716",
     "exception": false,
     "start_time": "2022-03-24T14:48:12.659978",
     "status": "completed"
    },
    "tags": []
   },
   "source": [
    "<center>\n",
    "    <h1>JaxTon</h1>\n",
    "    <i>💯 JAX exercises</i>\n",
    "    <br>\n",
    "    <br>\n",
    "    <a href='https://github.com/vopani/jaxton/blob/master/LICENSE'>\n",
    "        <img src='https://img.shields.io/badge/license-Apache%202.0-blue.svg?logo=apache'>\n",
    "    </a>\n",
    "    <a href='https://github.com/vopani/jaxton'>\n",
    "        <img src='https://img.shields.io/github/stars/vopani/jaxton?color=yellowgreen&logo=github'>\n",
    "    </a>\n",
    "    <a href='https://twitter.com/vopani'>\n",
    "        <img src='https://img.shields.io/twitter/follow/vopani'>\n",
    "    </a>\n",
    "</center>"
   ]
  },
  {
   "cell_type": "markdown",
   "id": "cb11a4f3",
   "metadata": {
    "papermill": {
     "duration": 0.081842,
     "end_time": "2022-03-24T14:48:12.890358",
     "exception": false,
     "start_time": "2022-03-24T14:48:12.808516",
     "status": "completed"
    },
    "tags": []
   },
   "source": [
    "<center>\n",
    "    All solutions of <b>JaxTon</b>: <i>💯 JAX exercises</i>\n",
    "    <br>\n",
    "    You can find individual sets of the exercises and solutions on <a href=\"https://github.com/vopani/jaxton#exercises-\">GitHub</a>\n",
    "</center>"
   ]
  },
  {
   "cell_type": "markdown",
   "id": "daf13247",
   "metadata": {
    "papermill": {
     "duration": 0.067471,
     "end_time": "2022-03-24T14:48:13.036788",
     "exception": false,
     "start_time": "2022-03-24T14:48:12.969317",
     "status": "completed"
    },
    "tags": []
   },
   "source": [
    "**Prerequisites**\n",
    "\n",
    "* The configuration of jax should be updated as shown in the code snippet below in order to use TPUs.\n",
    "* A sample array `sample_data` will be used for some of the exercises.\n",
    "* Sample functions `square`, `cube` and `areas` will be used for some of the exercises."
   ]
  },
  {
   "cell_type": "code",
   "execution_count": 1,
   "id": "2f8976f4",
   "metadata": {
    "_kg_hide-input": true,
    "_kg_hide-output": true,
    "execution": {
     "iopub.execute_input": "2022-03-24T14:48:13.184651Z",
     "iopub.status.busy": "2022-03-24T14:48:13.184020Z",
     "iopub.status.idle": "2022-03-24T14:48:22.047120Z",
     "shell.execute_reply": "2022-03-24T14:48:22.047641Z",
     "shell.execute_reply.started": "2022-03-24T05:57:41.749938Z"
    },
    "papermill": {
     "duration": 8.942864,
     "end_time": "2022-03-24T14:48:22.047957",
     "exception": false,
     "start_time": "2022-03-24T14:48:13.105093",
     "status": "completed"
    },
    "tags": []
   },
   "outputs": [
    {
     "name": "stdout",
     "output_type": "stream",
     "text": [
      "Requirement already satisfied: jax in /opt/conda/lib/python3.7/site-packages (0.2.19)\r\n",
      "Requirement already satisfied: opt-einsum in /opt/conda/lib/python3.7/site-packages (from jax) (3.3.0)\r\n",
      "Requirement already satisfied: absl-py in /opt/conda/lib/python3.7/site-packages (from jax) (0.12.0)\r\n",
      "Requirement already satisfied: numpy>=1.18 in /opt/conda/lib/python3.7/site-packages (from jax) (1.19.5)\r\n",
      "Requirement already satisfied: six in /opt/conda/lib/python3.7/site-packages (from absl-py->jax) (1.15.0)\r\n",
      "\u001b[33mWARNING: Running pip as the 'root' user can result in broken permissions and conflicting behaviour with the system package manager. It is recommended to use a virtual environment instead: https://pip.pypa.io/warnings/venv\u001b[0m\r\n"
     ]
    }
   ],
   "source": [
    "## install jax\n",
    "!python3 -m pip install jax"
   ]
  },
  {
   "cell_type": "code",
   "execution_count": 2,
   "id": "f8066e87",
   "metadata": {
    "_kg_hide-input": false,
    "execution": {
     "iopub.execute_input": "2022-03-24T14:48:22.194653Z",
     "iopub.status.busy": "2022-03-24T14:48:22.193788Z",
     "iopub.status.idle": "2022-03-24T14:49:08.894553Z",
     "shell.execute_reply": "2022-03-24T14:49:08.895378Z",
     "shell.execute_reply.started": "2022-03-24T05:57:51.040131Z"
    },
    "papermill": {
     "duration": 46.777481,
     "end_time": "2022-03-24T14:49:08.895636",
     "exception": false,
     "start_time": "2022-03-24T14:48:22.118155",
     "status": "completed"
    },
    "tags": []
   },
   "outputs": [
    {
     "data": {
      "text/plain": [
       "[TpuDevice(id=0, process_index=0, coords=(0,0,0), core_on_chip=0),\n",
       " TpuDevice(id=1, process_index=0, coords=(0,0,0), core_on_chip=1),\n",
       " TpuDevice(id=2, process_index=0, coords=(1,0,0), core_on_chip=0),\n",
       " TpuDevice(id=3, process_index=0, coords=(1,0,0), core_on_chip=1),\n",
       " TpuDevice(id=4, process_index=0, coords=(0,1,0), core_on_chip=0),\n",
       " TpuDevice(id=5, process_index=0, coords=(0,1,0), core_on_chip=1),\n",
       " TpuDevice(id=6, process_index=0, coords=(1,1,0), core_on_chip=0),\n",
       " TpuDevice(id=7, process_index=0, coords=(1,1,0), core_on_chip=1)]"
      ]
     },
     "execution_count": 2,
     "metadata": {},
     "output_type": "execute_result"
    }
   ],
   "source": [
    "## import packages\n",
    "import jax\n",
    "import jax.numpy as jnp\n",
    "import math\n",
    "import os\n",
    "import requests\n",
    "\n",
    "## setup JAX to use TPUs if available\n",
    "try:\n",
    "    url = 'http:' + os.environ['TPU_NAME'].split(':')[1] + ':8475/requestversion/tpu_driver_nightly'\n",
    "    resp = requests.post(url)\n",
    "    jax.config.FLAGS.jax_xla_backend = 'tpu_driver'\n",
    "    jax.config.FLAGS.jax_backend_target = os.environ['TPU_NAME']\n",
    "except:\n",
    "    pass\n",
    "\n",
    "jax.devices()"
   ]
  },
  {
   "cell_type": "code",
   "execution_count": 3,
   "id": "29a4a970",
   "metadata": {
    "execution": {
     "iopub.execute_input": "2022-03-24T14:49:09.123469Z",
     "iopub.status.busy": "2022-03-24T14:49:09.122535Z",
     "iopub.status.idle": "2022-03-24T14:49:09.175043Z",
     "shell.execute_reply": "2022-03-24T14:49:09.174220Z",
     "shell.execute_reply.started": "2022-03-24T05:57:51.052986Z"
    },
    "papermill": {
     "duration": 0.170476,
     "end_time": "2022-03-24T14:49:09.175242",
     "exception": false,
     "start_time": "2022-03-24T14:49:09.004766",
     "status": "completed"
    },
    "tags": []
   },
   "outputs": [
    {
     "data": {
      "text/plain": [
       "DeviceArray([10,  1, 24, 20, 15, 14], dtype=int32)"
      ]
     },
     "execution_count": 3,
     "metadata": {},
     "output_type": "execute_result"
    }
   ],
   "source": [
    "## sample data\n",
    "sample_data = jnp.array([10, 1, 24, 20, 15, 14])\n",
    "sample_data"
   ]
  },
  {
   "cell_type": "code",
   "execution_count": 4,
   "id": "27297bcf",
   "metadata": {
    "execution": {
     "iopub.execute_input": "2022-03-24T14:49:09.399961Z",
     "iopub.status.busy": "2022-03-24T14:49:09.398954Z",
     "iopub.status.idle": "2022-03-24T14:49:09.402601Z",
     "shell.execute_reply": "2022-03-24T14:49:09.403289Z",
     "shell.execute_reply.started": "2022-03-24T05:57:51.075659Z"
    },
    "papermill": {
     "duration": 0.11954,
     "end_time": "2022-03-24T14:49:09.403530",
     "exception": false,
     "start_time": "2022-03-24T14:49:09.283990",
     "status": "completed"
    },
    "tags": []
   },
   "outputs": [
    {
     "data": {
      "text/plain": [
       "4"
      ]
     },
     "execution_count": 4,
     "metadata": {},
     "output_type": "execute_result"
    }
   ],
   "source": [
    "## sample square function\n",
    "def square(x):\n",
    "    return x**2\n",
    "\n",
    "square(2)"
   ]
  },
  {
   "cell_type": "code",
   "execution_count": 5,
   "id": "5b176b4f",
   "metadata": {
    "execution": {
     "iopub.execute_input": "2022-03-24T14:49:09.636435Z",
     "iopub.status.busy": "2022-03-24T14:49:09.635356Z",
     "iopub.status.idle": "2022-03-24T14:49:09.639547Z",
     "shell.execute_reply": "2022-03-24T14:49:09.640356Z",
     "shell.execute_reply.started": "2022-03-24T05:57:51.089555Z"
    },
    "papermill": {
     "duration": 0.1272,
     "end_time": "2022-03-24T14:49:09.640627",
     "exception": false,
     "start_time": "2022-03-24T14:49:09.513427",
     "status": "completed"
    },
    "tags": []
   },
   "outputs": [
    {
     "data": {
      "text/plain": [
       "8"
      ]
     },
     "execution_count": 5,
     "metadata": {},
     "output_type": "execute_result"
    }
   ],
   "source": [
    "## sample cube function\n",
    "def cube(x):\n",
    "    return x**3\n",
    "\n",
    "cube(2)"
   ]
  },
  {
   "cell_type": "code",
   "execution_count": 6,
   "id": "36ef6a22",
   "metadata": {
    "execution": {
     "iopub.execute_input": "2022-03-24T14:49:09.882019Z",
     "iopub.status.busy": "2022-03-24T14:49:09.881072Z",
     "iopub.status.idle": "2022-03-24T14:49:09.884485Z",
     "shell.execute_reply": "2022-03-24T14:49:09.885203Z",
     "shell.execute_reply.started": "2022-03-24T05:57:51.1021Z"
    },
    "papermill": {
     "duration": 0.123239,
     "end_time": "2022-03-24T14:49:09.885426",
     "exception": false,
     "start_time": "2022-03-24T14:49:09.762187",
     "status": "completed"
    },
    "tags": []
   },
   "outputs": [
    {
     "data": {
      "text/plain": [
       "[1.7320508075688772, 4, 12.566370614359172]"
      ]
     },
     "execution_count": 6,
     "metadata": {},
     "output_type": "execute_result"
    }
   ],
   "source": [
    "## sample areas function\n",
    "def areas(x):\n",
    "    return [math.sqrt(3)*x**2/4, x**2, math.pi*x**2]\n",
    "\n",
    "areas(2)"
   ]
  },
  {
   "cell_type": "markdown",
   "id": "d47d40fa",
   "metadata": {
    "papermill": {
     "duration": 0.112459,
     "end_time": "2022-03-24T14:49:10.113488",
     "exception": false,
     "start_time": "2022-03-24T14:49:10.001029",
     "status": "completed"
    },
    "tags": []
   },
   "source": [
    "**Exercise 1: Install the `jax` package**"
   ]
  },
  {
   "cell_type": "code",
   "execution_count": 7,
   "id": "5908040f",
   "metadata": {
    "execution": {
     "iopub.execute_input": "2022-03-24T14:49:10.339515Z",
     "iopub.status.busy": "2022-03-24T14:49:10.338751Z",
     "iopub.status.idle": "2022-03-24T14:49:21.441757Z",
     "shell.execute_reply": "2022-03-24T14:49:21.442506Z",
     "shell.execute_reply.started": "2022-03-24T05:57:51.114849Z"
    },
    "papermill": {
     "duration": 11.2195,
     "end_time": "2022-03-24T14:49:21.442781",
     "exception": false,
     "start_time": "2022-03-24T14:49:10.223281",
     "status": "completed"
    },
    "tags": []
   },
   "outputs": [
    {
     "name": "stdout",
     "output_type": "stream",
     "text": [
      "Requirement already satisfied: jax in /opt/conda/lib/python3.7/site-packages (0.2.19)\r\n",
      "Requirement already satisfied: numpy>=1.18 in /opt/conda/lib/python3.7/site-packages (from jax) (1.19.5)\r\n",
      "Requirement already satisfied: opt-einsum in /opt/conda/lib/python3.7/site-packages (from jax) (3.3.0)\r\n",
      "Requirement already satisfied: absl-py in /opt/conda/lib/python3.7/site-packages (from jax) (0.12.0)\r\n",
      "Requirement already satisfied: six in /opt/conda/lib/python3.7/site-packages (from absl-py->jax) (1.15.0)\r\n",
      "\u001b[33mWARNING: Running pip as the 'root' user can result in broken permissions and conflicting behaviour with the system package manager. It is recommended to use a virtual environment instead: https://pip.pypa.io/warnings/venv\u001b[0m\r\n"
     ]
    }
   ],
   "source": [
    "!python3 -m pip install jax"
   ]
  },
  {
   "cell_type": "markdown",
   "id": "eab0e051",
   "metadata": {
    "papermill": {
     "duration": 0.111237,
     "end_time": "2022-03-24T14:49:21.665274",
     "exception": false,
     "start_time": "2022-03-24T14:49:21.554037",
     "status": "completed"
    },
    "tags": []
   },
   "source": [
    "**Exercise 2: Import the `jax` package**"
   ]
  },
  {
   "cell_type": "code",
   "execution_count": 8,
   "id": "4fdf4a81",
   "metadata": {
    "execution": {
     "iopub.execute_input": "2022-03-24T14:49:21.893419Z",
     "iopub.status.busy": "2022-03-24T14:49:21.892544Z",
     "iopub.status.idle": "2022-03-24T14:49:21.894983Z",
     "shell.execute_reply": "2022-03-24T14:49:21.895685Z",
     "shell.execute_reply.started": "2022-03-24T05:58:00.082432Z"
    },
    "papermill": {
     "duration": 0.119369,
     "end_time": "2022-03-24T14:49:21.895898",
     "exception": false,
     "start_time": "2022-03-24T14:49:21.776529",
     "status": "completed"
    },
    "tags": []
   },
   "outputs": [],
   "source": [
    "import jax"
   ]
  },
  {
   "cell_type": "markdown",
   "id": "d60fee2d",
   "metadata": {
    "papermill": {
     "duration": 0.112897,
     "end_time": "2022-03-24T14:49:22.120660",
     "exception": false,
     "start_time": "2022-03-24T14:49:22.007763",
     "status": "completed"
    },
    "tags": []
   },
   "source": [
    "**Exercise 3: Display the version of `jax`**"
   ]
  },
  {
   "cell_type": "code",
   "execution_count": 9,
   "id": "96d3fc4e",
   "metadata": {
    "execution": {
     "iopub.execute_input": "2022-03-24T14:49:22.348761Z",
     "iopub.status.busy": "2022-03-24T14:49:22.347810Z",
     "iopub.status.idle": "2022-03-24T14:49:22.351748Z",
     "shell.execute_reply": "2022-03-24T14:49:22.352434Z",
     "shell.execute_reply.started": "2022-03-24T05:58:00.0909Z"
    },
    "papermill": {
     "duration": 0.122122,
     "end_time": "2022-03-24T14:49:22.352667",
     "exception": false,
     "start_time": "2022-03-24T14:49:22.230545",
     "status": "completed"
    },
    "tags": []
   },
   "outputs": [
    {
     "data": {
      "text/plain": [
       "'0.2.19'"
      ]
     },
     "execution_count": 9,
     "metadata": {},
     "output_type": "execute_result"
    }
   ],
   "source": [
    "jax.__version__"
   ]
  },
  {
   "cell_type": "markdown",
   "id": "be5ee7cf",
   "metadata": {
    "papermill": {
     "duration": 0.113119,
     "end_time": "2022-03-24T14:49:22.578151",
     "exception": false,
     "start_time": "2022-03-24T14:49:22.465032",
     "status": "completed"
    },
    "tags": []
   },
   "source": [
    "**Exercise 4: Display the default backend of `jax`**"
   ]
  },
  {
   "cell_type": "code",
   "execution_count": 10,
   "id": "d3fdcecd",
   "metadata": {
    "execution": {
     "iopub.execute_input": "2022-03-24T14:49:22.807395Z",
     "iopub.status.busy": "2022-03-24T14:49:22.806441Z",
     "iopub.status.idle": "2022-03-24T14:49:22.811392Z",
     "shell.execute_reply": "2022-03-24T14:49:22.810637Z",
     "shell.execute_reply.started": "2022-03-24T05:58:00.107428Z"
    },
    "papermill": {
     "duration": 0.123185,
     "end_time": "2022-03-24T14:49:22.811595",
     "exception": false,
     "start_time": "2022-03-24T14:49:22.688410",
     "status": "completed"
    },
    "tags": []
   },
   "outputs": [
    {
     "data": {
      "text/plain": [
       "'tpu'"
      ]
     },
     "execution_count": 10,
     "metadata": {},
     "output_type": "execute_result"
    }
   ],
   "source": [
    "jax.default_backend()"
   ]
  },
  {
   "cell_type": "markdown",
   "id": "b2c7310a",
   "metadata": {
    "papermill": {
     "duration": 0.11227,
     "end_time": "2022-03-24T14:49:23.035937",
     "exception": false,
     "start_time": "2022-03-24T14:49:22.923667",
     "status": "completed"
    },
    "tags": []
   },
   "source": [
    "**Exercise 5: Display the devices of the backend**"
   ]
  },
  {
   "cell_type": "code",
   "execution_count": 11,
   "id": "4d71f144",
   "metadata": {
    "execution": {
     "iopub.execute_input": "2022-03-24T14:49:23.267519Z",
     "iopub.status.busy": "2022-03-24T14:49:23.266603Z",
     "iopub.status.idle": "2022-03-24T14:49:23.270822Z",
     "shell.execute_reply": "2022-03-24T14:49:23.271542Z",
     "shell.execute_reply.started": "2022-03-24T05:58:00.119368Z"
    },
    "papermill": {
     "duration": 0.123227,
     "end_time": "2022-03-24T14:49:23.271781",
     "exception": false,
     "start_time": "2022-03-24T14:49:23.148554",
     "status": "completed"
    },
    "tags": []
   },
   "outputs": [
    {
     "data": {
      "text/plain": [
       "[TpuDevice(id=0, process_index=0, coords=(0,0,0), core_on_chip=0),\n",
       " TpuDevice(id=1, process_index=0, coords=(0,0,0), core_on_chip=1),\n",
       " TpuDevice(id=2, process_index=0, coords=(1,0,0), core_on_chip=0),\n",
       " TpuDevice(id=3, process_index=0, coords=(1,0,0), core_on_chip=1),\n",
       " TpuDevice(id=4, process_index=0, coords=(0,1,0), core_on_chip=0),\n",
       " TpuDevice(id=5, process_index=0, coords=(0,1,0), core_on_chip=1),\n",
       " TpuDevice(id=6, process_index=0, coords=(1,1,0), core_on_chip=0),\n",
       " TpuDevice(id=7, process_index=0, coords=(1,1,0), core_on_chip=1)]"
      ]
     },
     "execution_count": 11,
     "metadata": {},
     "output_type": "execute_result"
    }
   ],
   "source": [
    "jax.devices()"
   ]
  },
  {
   "cell_type": "markdown",
   "id": "a22220ee",
   "metadata": {
    "papermill": {
     "duration": 0.109578,
     "end_time": "2022-03-24T14:49:23.492766",
     "exception": false,
     "start_time": "2022-03-24T14:49:23.383188",
     "status": "completed"
    },
    "tags": []
   },
   "source": [
    "**Exercise 6: Create a JAX DeviceArray with values [10, 1, 24] and assign it to `data`**"
   ]
  },
  {
   "cell_type": "code",
   "execution_count": 12,
   "id": "6cc8dba2",
   "metadata": {
    "execution": {
     "iopub.execute_input": "2022-03-24T14:49:23.722867Z",
     "iopub.status.busy": "2022-03-24T14:49:23.721940Z",
     "iopub.status.idle": "2022-03-24T14:49:23.763883Z",
     "shell.execute_reply": "2022-03-24T14:49:23.765205Z",
     "shell.execute_reply.started": "2022-03-24T05:58:00.131348Z"
    },
    "papermill": {
     "duration": 0.162222,
     "end_time": "2022-03-24T14:49:23.765458",
     "exception": false,
     "start_time": "2022-03-24T14:49:23.603236",
     "status": "completed"
    },
    "tags": []
   },
   "outputs": [
    {
     "data": {
      "text/plain": [
       "DeviceArray([10,  1, 24], dtype=int32)"
      ]
     },
     "execution_count": 12,
     "metadata": {},
     "output_type": "execute_result"
    }
   ],
   "source": [
    "data = jax.numpy.array([10, 1, 24])\n",
    "data"
   ]
  },
  {
   "cell_type": "markdown",
   "id": "b1e8959c",
   "metadata": {
    "papermill": {
     "duration": 0.112258,
     "end_time": "2022-03-24T14:49:23.990665",
     "exception": false,
     "start_time": "2022-03-24T14:49:23.878407",
     "status": "completed"
    },
    "tags": []
   },
   "source": [
    "**Exercise 7: Display the type of `data`**"
   ]
  },
  {
   "cell_type": "code",
   "execution_count": 13,
   "id": "c63abd22",
   "metadata": {
    "execution": {
     "iopub.execute_input": "2022-03-24T14:49:24.226221Z",
     "iopub.status.busy": "2022-03-24T14:49:24.225256Z",
     "iopub.status.idle": "2022-03-24T14:49:24.229025Z",
     "shell.execute_reply": "2022-03-24T14:49:24.229786Z",
     "shell.execute_reply.started": "2022-03-24T05:58:00.145156Z"
    },
    "papermill": {
     "duration": 0.12549,
     "end_time": "2022-03-24T14:49:24.230007",
     "exception": false,
     "start_time": "2022-03-24T14:49:24.104517",
     "status": "completed"
    },
    "tags": []
   },
   "outputs": [
    {
     "data": {
      "text/plain": [
       "jax.interpreters.xla._DeviceArray"
      ]
     },
     "execution_count": 13,
     "metadata": {},
     "output_type": "execute_result"
    }
   ],
   "source": [
    "type(data)"
   ]
  },
  {
   "cell_type": "markdown",
   "id": "7ed8f9a6",
   "metadata": {
    "papermill": {
     "duration": 0.115253,
     "end_time": "2022-03-24T14:49:24.459789",
     "exception": false,
     "start_time": "2022-03-24T14:49:24.344536",
     "status": "completed"
    },
    "tags": []
   },
   "source": [
    "**Exercise 8: Display the shape of `data`**"
   ]
  },
  {
   "cell_type": "code",
   "execution_count": 14,
   "id": "9c1e8142",
   "metadata": {
    "execution": {
     "iopub.execute_input": "2022-03-24T14:49:24.696484Z",
     "iopub.status.busy": "2022-03-24T14:49:24.695495Z",
     "iopub.status.idle": "2022-03-24T14:49:24.700706Z",
     "shell.execute_reply": "2022-03-24T14:49:24.699955Z",
     "shell.execute_reply.started": "2022-03-24T05:58:00.155801Z"
    },
    "papermill": {
     "duration": 0.125779,
     "end_time": "2022-03-24T14:49:24.700906",
     "exception": false,
     "start_time": "2022-03-24T14:49:24.575127",
     "status": "completed"
    },
    "tags": []
   },
   "outputs": [
    {
     "data": {
      "text/plain": [
       "(3,)"
      ]
     },
     "execution_count": 14,
     "metadata": {},
     "output_type": "execute_result"
    }
   ],
   "source": [
    "data.shape"
   ]
  },
  {
   "cell_type": "markdown",
   "id": "f8b4e9ae",
   "metadata": {
    "papermill": {
     "duration": 0.113428,
     "end_time": "2022-03-24T14:49:24.927933",
     "exception": false,
     "start_time": "2022-03-24T14:49:24.814505",
     "status": "completed"
    },
    "tags": []
   },
   "source": [
    "**Exercise 9: Transfer `data` to host and assign it to `data_host`**"
   ]
  },
  {
   "cell_type": "code",
   "execution_count": 15,
   "id": "7e056e51",
   "metadata": {
    "execution": {
     "iopub.execute_input": "2022-03-24T14:49:25.160314Z",
     "iopub.status.busy": "2022-03-24T14:49:25.159322Z",
     "iopub.status.idle": "2022-03-24T14:49:25.163754Z",
     "shell.execute_reply": "2022-03-24T14:49:25.162901Z",
     "shell.execute_reply.started": "2022-03-24T05:58:00.167176Z"
    },
    "papermill": {
     "duration": 0.124137,
     "end_time": "2022-03-24T14:49:25.163933",
     "exception": false,
     "start_time": "2022-03-24T14:49:25.039796",
     "status": "completed"
    },
    "tags": []
   },
   "outputs": [
    {
     "data": {
      "text/plain": [
       "array([10,  1, 24], dtype=int32)"
      ]
     },
     "execution_count": 15,
     "metadata": {},
     "output_type": "execute_result"
    }
   ],
   "source": [
    "data_host = jax.device_get(data)\n",
    "data_host"
   ]
  },
  {
   "cell_type": "markdown",
   "id": "cca9bccd",
   "metadata": {
    "papermill": {
     "duration": 0.112888,
     "end_time": "2022-03-24T14:49:25.389784",
     "exception": false,
     "start_time": "2022-03-24T14:49:25.276896",
     "status": "completed"
    },
    "tags": []
   },
   "source": [
    "**Exercise 10: Transfer `data_host` to device and assign it to `data_device`**"
   ]
  },
  {
   "cell_type": "code",
   "execution_count": 16,
   "id": "19f6c6e5",
   "metadata": {
    "execution": {
     "iopub.execute_input": "2022-03-24T14:49:25.625544Z",
     "iopub.status.busy": "2022-03-24T14:49:25.623159Z",
     "iopub.status.idle": "2022-03-24T14:49:25.669300Z",
     "shell.execute_reply": "2022-03-24T14:49:25.668404Z",
     "shell.execute_reply.started": "2022-03-24T05:58:00.179822Z"
    },
    "papermill": {
     "duration": 0.162703,
     "end_time": "2022-03-24T14:49:25.669494",
     "exception": false,
     "start_time": "2022-03-24T14:49:25.506791",
     "status": "completed"
    },
    "tags": []
   },
   "outputs": [
    {
     "data": {
      "text/plain": [
       "DeviceArray([10,  1, 24], dtype=int32)"
      ]
     },
     "execution_count": 16,
     "metadata": {},
     "output_type": "execute_result"
    }
   ],
   "source": [
    "data_device = jax.device_put(data_host)\n",
    "data_device"
   ]
  },
  {
   "cell_type": "markdown",
   "id": "e4808c5f",
   "metadata": {
    "papermill": {
     "duration": 0.115092,
     "end_time": "2022-03-24T14:49:25.898539",
     "exception": false,
     "start_time": "2022-03-24T14:49:25.783447",
     "status": "completed"
    },
    "tags": []
   },
   "source": [
    "**Exercise 11: Create a matrix with values [[10, 1, 24], [20, 15, 14]] and assign it to `data`**"
   ]
  },
  {
   "cell_type": "code",
   "execution_count": 17,
   "id": "1f0a9d46",
   "metadata": {
    "execution": {
     "iopub.execute_input": "2022-03-24T14:49:26.136623Z",
     "iopub.status.busy": "2022-03-24T14:49:26.135709Z",
     "iopub.status.idle": "2022-03-24T14:49:26.142979Z",
     "shell.execute_reply": "2022-03-24T14:49:26.142102Z",
     "shell.execute_reply.started": "2022-03-24T05:58:00.192171Z"
    },
    "papermill": {
     "duration": 0.127896,
     "end_time": "2022-03-24T14:49:26.143171",
     "exception": false,
     "start_time": "2022-03-24T14:49:26.015275",
     "status": "completed"
    },
    "tags": []
   },
   "outputs": [
    {
     "data": {
      "text/plain": [
       "DeviceArray([[10,  1, 24],\n",
       "             [20, 15, 14]], dtype=int32)"
      ]
     },
     "execution_count": 17,
     "metadata": {},
     "output_type": "execute_result"
    }
   ],
   "source": [
    "data = jnp.array([[10, 1, 24], [20, 15, 14]])\n",
    "data"
   ]
  },
  {
   "cell_type": "markdown",
   "id": "1528b9d2",
   "metadata": {
    "papermill": {
     "duration": 0.117553,
     "end_time": "2022-03-24T14:49:26.378673",
     "exception": false,
     "start_time": "2022-03-24T14:49:26.261120",
     "status": "completed"
    },
    "tags": []
   },
   "source": [
    "**Exercise 12: Assign the transpose of `data` to `dataT`**"
   ]
  },
  {
   "cell_type": "code",
   "execution_count": 18,
   "id": "90a7faed",
   "metadata": {
    "execution": {
     "iopub.execute_input": "2022-03-24T14:49:26.628427Z",
     "iopub.status.busy": "2022-03-24T14:49:26.621680Z",
     "iopub.status.idle": "2022-03-24T14:49:27.777991Z",
     "shell.execute_reply": "2022-03-24T14:49:27.777109Z",
     "shell.execute_reply.started": "2022-03-24T05:58:00.205358Z"
    },
    "papermill": {
     "duration": 1.284277,
     "end_time": "2022-03-24T14:49:27.778182",
     "exception": false,
     "start_time": "2022-03-24T14:49:26.493905",
     "status": "completed"
    },
    "tags": []
   },
   "outputs": [
    {
     "data": {
      "text/plain": [
       "DeviceArray([[10, 20],\n",
       "             [ 1, 15],\n",
       "             [24, 14]], dtype=int32)"
      ]
     },
     "execution_count": 18,
     "metadata": {},
     "output_type": "execute_result"
    }
   ],
   "source": [
    "dataT = data.T\n",
    "dataT"
   ]
  },
  {
   "cell_type": "markdown",
   "id": "0e2076a4",
   "metadata": {
    "papermill": {
     "duration": 0.115891,
     "end_time": "2022-03-24T14:49:28.014179",
     "exception": false,
     "start_time": "2022-03-24T14:49:27.898288",
     "status": "completed"
    },
    "tags": []
   },
   "source": [
    "**Exercise 13: Assign the element of `data` at index [0, 2] to `value`**"
   ]
  },
  {
   "cell_type": "code",
   "execution_count": 19,
   "id": "d75c05ae",
   "metadata": {
    "execution": {
     "iopub.execute_input": "2022-03-24T14:49:28.252224Z",
     "iopub.status.busy": "2022-03-24T14:49:28.251353Z",
     "iopub.status.idle": "2022-03-24T14:49:28.454718Z",
     "shell.execute_reply": "2022-03-24T14:49:28.455423Z",
     "shell.execute_reply.started": "2022-03-24T05:58:00.221099Z"
    },
    "papermill": {
     "duration": 0.326896,
     "end_time": "2022-03-24T14:49:28.455684",
     "exception": false,
     "start_time": "2022-03-24T14:49:28.128788",
     "status": "completed"
    },
    "tags": []
   },
   "outputs": [
    {
     "data": {
      "text/plain": [
       "DeviceArray(24, dtype=int32)"
      ]
     },
     "execution_count": 19,
     "metadata": {},
     "output_type": "execute_result"
    }
   ],
   "source": [
    "value = data[0, 2]\n",
    "value"
   ]
  },
  {
   "cell_type": "markdown",
   "id": "f5025c53",
   "metadata": {
    "papermill": {
     "duration": 0.115308,
     "end_time": "2022-03-24T14:49:28.690739",
     "exception": false,
     "start_time": "2022-03-24T14:49:28.575431",
     "status": "completed"
    },
    "tags": []
   },
   "source": [
    "**Exercise 14: Update the value of `data` at index [1, 1] to `100`**"
   ]
  },
  {
   "cell_type": "code",
   "execution_count": 20,
   "id": "2d998837",
   "metadata": {
    "execution": {
     "iopub.execute_input": "2022-03-24T14:49:28.929480Z",
     "iopub.status.busy": "2022-03-24T14:49:28.928552Z",
     "iopub.status.idle": "2022-03-24T14:49:28.998502Z",
     "shell.execute_reply": "2022-03-24T14:49:28.999190Z",
     "shell.execute_reply.started": "2022-03-24T05:58:00.236874Z"
    },
    "papermill": {
     "duration": 0.191679,
     "end_time": "2022-03-24T14:49:28.999372",
     "exception": false,
     "start_time": "2022-03-24T14:49:28.807693",
     "status": "completed"
    },
    "tags": []
   },
   "outputs": [
    {
     "data": {
      "text/plain": [
       "DeviceArray([[ 10,   1,  24],\n",
       "             [ 20, 100,  14]], dtype=int32)"
      ]
     },
     "execution_count": 20,
     "metadata": {},
     "output_type": "execute_result"
    }
   ],
   "source": [
    "data = data.at[1, 1].set(100)\n",
    "data"
   ]
  },
  {
   "cell_type": "markdown",
   "id": "20f4da2f",
   "metadata": {
    "papermill": {
     "duration": 0.117673,
     "end_time": "2022-03-24T14:49:29.234005",
     "exception": false,
     "start_time": "2022-03-24T14:49:29.116332",
     "status": "completed"
    },
    "tags": []
   },
   "source": [
    "**Exercise 15: Add `41` to the value of `data` at index [0, 0]**"
   ]
  },
  {
   "cell_type": "code",
   "execution_count": 21,
   "id": "32babd18",
   "metadata": {
    "execution": {
     "iopub.execute_input": "2022-03-24T14:49:29.477653Z",
     "iopub.status.busy": "2022-03-24T14:49:29.476763Z",
     "iopub.status.idle": "2022-03-24T14:49:29.532496Z",
     "shell.execute_reply": "2022-03-24T14:49:29.533252Z",
     "shell.execute_reply.started": "2022-03-24T05:58:00.252232Z"
    },
    "papermill": {
     "duration": 0.180522,
     "end_time": "2022-03-24T14:49:29.533489",
     "exception": false,
     "start_time": "2022-03-24T14:49:29.352967",
     "status": "completed"
    },
    "tags": []
   },
   "outputs": [
    {
     "data": {
      "text/plain": [
       "DeviceArray([[ 51,   1,  24],\n",
       "             [ 20, 100,  14]], dtype=int32)"
      ]
     },
     "execution_count": 21,
     "metadata": {},
     "output_type": "execute_result"
    }
   ],
   "source": [
    "data = data.at[0, 0].add(41)\n",
    "data"
   ]
  },
  {
   "cell_type": "markdown",
   "id": "3e32dcad",
   "metadata": {
    "papermill": {
     "duration": 0.117351,
     "end_time": "2022-03-24T14:49:29.769421",
     "exception": false,
     "start_time": "2022-03-24T14:49:29.652070",
     "status": "completed"
    },
    "tags": []
   },
   "source": [
    "**Exercise 16: Calculate the minimum values over axis=1 and assign it to `mins`**"
   ]
  },
  {
   "cell_type": "code",
   "execution_count": 22,
   "id": "0cc9cbc4",
   "metadata": {
    "execution": {
     "iopub.execute_input": "2022-03-24T14:49:30.011978Z",
     "iopub.status.busy": "2022-03-24T14:49:30.011082Z",
     "iopub.status.idle": "2022-03-24T14:49:30.035449Z",
     "shell.execute_reply": "2022-03-24T14:49:30.036232Z",
     "shell.execute_reply.started": "2022-03-24T05:58:00.267514Z"
    },
    "papermill": {
     "duration": 0.150484,
     "end_time": "2022-03-24T14:49:30.036464",
     "exception": false,
     "start_time": "2022-03-24T14:49:29.885980",
     "status": "completed"
    },
    "tags": []
   },
   "outputs": [
    {
     "data": {
      "text/plain": [
       "DeviceArray([ 1, 14], dtype=int32)"
      ]
     },
     "execution_count": 22,
     "metadata": {},
     "output_type": "execute_result"
    }
   ],
   "source": [
    "mins = data.min(axis=1)\n",
    "mins"
   ]
  },
  {
   "cell_type": "markdown",
   "id": "9a6881e9",
   "metadata": {
    "papermill": {
     "duration": 0.11919,
     "end_time": "2022-03-24T14:49:30.278955",
     "exception": false,
     "start_time": "2022-03-24T14:49:30.159765",
     "status": "completed"
    },
    "tags": []
   },
   "source": [
    "**Exercise 17: Select the first row of values of `data` and assign it to `data_select`**"
   ]
  },
  {
   "cell_type": "code",
   "execution_count": 23,
   "id": "54cb0411",
   "metadata": {
    "execution": {
     "iopub.execute_input": "2022-03-24T14:49:30.526186Z",
     "iopub.status.busy": "2022-03-24T14:49:30.525264Z",
     "iopub.status.idle": "2022-03-24T14:49:30.578644Z",
     "shell.execute_reply": "2022-03-24T14:49:30.579379Z",
     "shell.execute_reply.started": "2022-03-24T05:58:00.275068Z"
    },
    "papermill": {
     "duration": 0.175226,
     "end_time": "2022-03-24T14:49:30.579634",
     "exception": false,
     "start_time": "2022-03-24T14:49:30.404408",
     "status": "completed"
    },
    "tags": []
   },
   "outputs": [
    {
     "data": {
      "text/plain": [
       "DeviceArray([51,  1, 24], dtype=int32)"
      ]
     },
     "execution_count": 23,
     "metadata": {},
     "output_type": "execute_result"
    }
   ],
   "source": [
    "data_select = data[0]\n",
    "data_select"
   ]
  },
  {
   "cell_type": "markdown",
   "id": "08ecb821",
   "metadata": {
    "papermill": {
     "duration": 0.119913,
     "end_time": "2022-03-24T14:49:30.885974",
     "exception": false,
     "start_time": "2022-03-24T14:49:30.766061",
     "status": "completed"
    },
    "tags": []
   },
   "source": [
    "**Exercise 18: Append the row `data_select` to `data`**"
   ]
  },
  {
   "cell_type": "code",
   "execution_count": 24,
   "id": "ae0acc68",
   "metadata": {
    "execution": {
     "iopub.execute_input": "2022-03-24T14:49:31.134414Z",
     "iopub.status.busy": "2022-03-24T14:49:31.133454Z",
     "iopub.status.idle": "2022-03-24T14:49:31.172498Z",
     "shell.execute_reply": "2022-03-24T14:49:31.173247Z",
     "shell.execute_reply.started": "2022-03-24T05:58:00.289333Z"
    },
    "papermill": {
     "duration": 0.165645,
     "end_time": "2022-03-24T14:49:31.173480",
     "exception": false,
     "start_time": "2022-03-24T14:49:31.007835",
     "status": "completed"
    },
    "tags": []
   },
   "outputs": [
    {
     "data": {
      "text/plain": [
       "DeviceArray([[ 51,   1,  24],\n",
       "             [ 20, 100,  14],\n",
       "             [ 51,   1,  24]], dtype=int32)"
      ]
     },
     "execution_count": 24,
     "metadata": {},
     "output_type": "execute_result"
    }
   ],
   "source": [
    "data = jnp.vstack([data, data_select])\n",
    "data"
   ]
  },
  {
   "cell_type": "markdown",
   "id": "51472cf1",
   "metadata": {
    "papermill": {
     "duration": 0.11984,
     "end_time": "2022-03-24T14:49:31.415193",
     "exception": false,
     "start_time": "2022-03-24T14:49:31.295353",
     "status": "completed"
    },
    "tags": []
   },
   "source": [
    "**Exercise 19: Multiply the matrices `data` and `dataT` and assign it to `data_prod`**"
   ]
  },
  {
   "cell_type": "code",
   "execution_count": 25,
   "id": "1477bd2c",
   "metadata": {
    "execution": {
     "iopub.execute_input": "2022-03-24T14:49:31.676660Z",
     "iopub.status.busy": "2022-03-24T14:49:31.675725Z",
     "iopub.status.idle": "2022-03-24T14:49:31.704988Z",
     "shell.execute_reply": "2022-03-24T14:49:31.705787Z",
     "shell.execute_reply.started": "2022-03-24T05:58:00.301508Z"
    },
    "papermill": {
     "duration": 0.171851,
     "end_time": "2022-03-24T14:49:31.706020",
     "exception": false,
     "start_time": "2022-03-24T14:49:31.534169",
     "status": "completed"
    },
    "tags": []
   },
   "outputs": [
    {
     "data": {
      "text/plain": [
       "DeviceArray([[1087, 1371],\n",
       "             [ 636, 2096],\n",
       "             [1087, 1371]], dtype=int32)"
      ]
     },
     "execution_count": 25,
     "metadata": {},
     "output_type": "execute_result"
    }
   ],
   "source": [
    "data_prod = jnp.dot(data, dataT)\n",
    "data_prod"
   ]
  },
  {
   "cell_type": "markdown",
   "id": "56659f94",
   "metadata": {
    "papermill": {
     "duration": 0.121866,
     "end_time": "2022-03-24T14:49:31.947981",
     "exception": false,
     "start_time": "2022-03-24T14:49:31.826115",
     "status": "completed"
    },
    "tags": []
   },
   "source": [
    "**Exercise 20: Convert the dtype of `data_prod` to `float32`**"
   ]
  },
  {
   "cell_type": "code",
   "execution_count": 26,
   "id": "962eb43d",
   "metadata": {
    "execution": {
     "iopub.execute_input": "2022-03-24T14:49:32.194183Z",
     "iopub.status.busy": "2022-03-24T14:49:32.193061Z",
     "iopub.status.idle": "2022-03-24T14:49:32.214002Z",
     "shell.execute_reply": "2022-03-24T14:49:32.214683Z",
     "shell.execute_reply.started": "2022-03-24T05:58:00.312039Z"
    },
    "papermill": {
     "duration": 0.14736,
     "end_time": "2022-03-24T14:49:32.214920",
     "exception": false,
     "start_time": "2022-03-24T14:49:32.067560",
     "status": "completed"
    },
    "tags": []
   },
   "outputs": [
    {
     "data": {
      "text/plain": [
       "DeviceArray([[1087., 1371.],\n",
       "             [ 636., 2096.],\n",
       "             [1087., 1371.]], dtype=float32)"
      ]
     },
     "execution_count": 26,
     "metadata": {},
     "output_type": "execute_result"
    }
   ],
   "source": [
    "data_prod = jnp.array(data_prod, dtype=jnp.float32)\n",
    "data_prod"
   ]
  },
  {
   "cell_type": "markdown",
   "id": "9464a48e",
   "metadata": {
    "papermill": {
     "duration": 0.118606,
     "end_time": "2022-03-24T14:49:32.453559",
     "exception": false,
     "start_time": "2022-03-24T14:49:32.334953",
     "status": "completed"
    },
    "tags": []
   },
   "source": [
    "**Exercise 21: Create a pseudorandom number generator key with seed=100 and assign it to `key`**"
   ]
  },
  {
   "cell_type": "code",
   "execution_count": 27,
   "id": "f1f0f59e",
   "metadata": {
    "execution": {
     "iopub.execute_input": "2022-03-24T14:49:32.704781Z",
     "iopub.status.busy": "2022-03-24T14:49:32.703868Z",
     "iopub.status.idle": "2022-03-24T14:49:32.803728Z",
     "shell.execute_reply": "2022-03-24T14:49:32.804434Z",
     "shell.execute_reply.started": "2022-03-24T05:58:00.331896Z"
    },
    "papermill": {
     "duration": 0.227958,
     "end_time": "2022-03-24T14:49:32.804683",
     "exception": false,
     "start_time": "2022-03-24T14:49:32.576725",
     "status": "completed"
    },
    "tags": []
   },
   "outputs": [
    {
     "data": {
      "text/plain": [
       "DeviceArray([  0, 100], dtype=uint32)"
      ]
     },
     "execution_count": 27,
     "metadata": {},
     "output_type": "execute_result"
    }
   ],
   "source": [
    "key = jax.random.PRNGKey(100)\n",
    "key"
   ]
  },
  {
   "cell_type": "markdown",
   "id": "a1b08153",
   "metadata": {
    "papermill": {
     "duration": 0.122049,
     "end_time": "2022-03-24T14:49:33.050665",
     "exception": false,
     "start_time": "2022-03-24T14:49:32.928616",
     "status": "completed"
    },
    "tags": []
   },
   "source": [
    "**Exercise 22: Create a subkey from `key` and assign it to `subkey`**"
   ]
  },
  {
   "cell_type": "code",
   "execution_count": 28,
   "id": "fdbc9fc4",
   "metadata": {
    "execution": {
     "iopub.execute_input": "2022-03-24T14:49:33.323231Z",
     "iopub.status.busy": "2022-03-24T14:49:33.307597Z",
     "iopub.status.idle": "2022-03-24T14:49:33.547092Z",
     "shell.execute_reply": "2022-03-24T14:49:33.548064Z",
     "shell.execute_reply.started": "2022-03-24T05:58:00.343372Z"
    },
    "papermill": {
     "duration": 0.376021,
     "end_time": "2022-03-24T14:49:33.548369",
     "exception": false,
     "start_time": "2022-03-24T14:49:33.172348",
     "status": "completed"
    },
    "tags": []
   },
   "outputs": [
    {
     "data": {
      "text/plain": [
       "array([3011861781, 1867493174], dtype=uint32)"
      ]
     },
     "execution_count": 28,
     "metadata": {},
     "output_type": "execute_result"
    }
   ],
   "source": [
    "key, subkey = jax.random.split(key)\n",
    "subkey"
   ]
  },
  {
   "cell_type": "markdown",
   "id": "2ace956d",
   "metadata": {
    "papermill": {
     "duration": 0.124154,
     "end_time": "2022-03-24T14:49:33.795336",
     "exception": false,
     "start_time": "2022-03-24T14:49:33.671182",
     "status": "completed"
    },
    "tags": []
   },
   "source": [
    "**Exercise 23: Split `key` into seven subkeys `key_1`, `key_2`, `key_3`, `key_4`, `key_5`, `key_6` and `key_7`**"
   ]
  },
  {
   "cell_type": "code",
   "execution_count": 29,
   "id": "b5c89d0f",
   "metadata": {
    "execution": {
     "iopub.execute_input": "2022-03-24T14:49:34.070305Z",
     "iopub.status.busy": "2022-03-24T14:49:34.069233Z",
     "iopub.status.idle": "2022-03-24T14:49:34.290185Z",
     "shell.execute_reply": "2022-03-24T14:49:34.290985Z",
     "shell.execute_reply.started": "2022-03-24T05:58:00.355586Z"
    },
    "papermill": {
     "duration": 0.37797,
     "end_time": "2022-03-24T14:49:34.291217",
     "exception": false,
     "start_time": "2022-03-24T14:49:33.913247",
     "status": "completed"
    },
    "tags": []
   },
   "outputs": [
    {
     "data": {
      "text/plain": [
       "array([ 402730500, 1595431526], dtype=uint32)"
      ]
     },
     "execution_count": 29,
     "metadata": {},
     "output_type": "execute_result"
    }
   ],
   "source": [
    "key_1, key_2, key_3, key_4, key_5, key_6, key_7 = jax.random.split(key, num=7)\n",
    "key_1"
   ]
  },
  {
   "cell_type": "markdown",
   "id": "3d7825de",
   "metadata": {
    "papermill": {
     "duration": 0.129564,
     "end_time": "2022-03-24T14:49:34.550676",
     "exception": false,
     "start_time": "2022-03-24T14:49:34.421112",
     "status": "completed"
    },
    "tags": []
   },
   "source": [
    "**Exercise 24: Create a random permutation of `sample_data` using `key_1` and assign it to `data_permutation`**"
   ]
  },
  {
   "cell_type": "code",
   "execution_count": 30,
   "id": "ec341c75",
   "metadata": {
    "execution": {
     "iopub.execute_input": "2022-03-24T14:49:34.841973Z",
     "iopub.status.busy": "2022-03-24T14:49:34.831708Z",
     "iopub.status.idle": "2022-03-24T14:49:35.289694Z",
     "shell.execute_reply": "2022-03-24T14:49:35.290365Z",
     "shell.execute_reply.started": "2022-03-24T05:58:00.368112Z"
    },
    "papermill": {
     "duration": 0.611161,
     "end_time": "2022-03-24T14:49:35.290637",
     "exception": false,
     "start_time": "2022-03-24T14:49:34.679476",
     "status": "completed"
    },
    "tags": []
   },
   "outputs": [
    {
     "data": {
      "text/plain": [
       "DeviceArray([20, 14,  1, 10, 24, 15], dtype=int32)"
      ]
     },
     "execution_count": 30,
     "metadata": {},
     "output_type": "execute_result"
    }
   ],
   "source": [
    "data_permutation = jax.random.permutation(key_1, sample_data)\n",
    "data_permutation"
   ]
  },
  {
   "cell_type": "markdown",
   "id": "7a004644",
   "metadata": {
    "papermill": {
     "duration": 0.124041,
     "end_time": "2022-03-24T14:49:35.536995",
     "exception": false,
     "start_time": "2022-03-24T14:49:35.412954",
     "status": "completed"
    },
    "tags": []
   },
   "source": [
    "**Exercise 25: Choose a random element from `sample_data` using `key_2` and assign it to `random_selection`**"
   ]
  },
  {
   "cell_type": "code",
   "execution_count": 31,
   "id": "d47f1ff4",
   "metadata": {
    "execution": {
     "iopub.execute_input": "2022-03-24T14:49:35.797060Z",
     "iopub.status.busy": "2022-03-24T14:49:35.796104Z",
     "iopub.status.idle": "2022-03-24T14:49:36.664838Z",
     "shell.execute_reply": "2022-03-24T14:49:36.664038Z",
     "shell.execute_reply.started": "2022-03-24T05:58:00.38329Z"
    },
    "papermill": {
     "duration": 1.000728,
     "end_time": "2022-03-24T14:49:36.665042",
     "exception": false,
     "start_time": "2022-03-24T14:49:35.664314",
     "status": "completed"
    },
    "tags": []
   },
   "outputs": [
    {
     "data": {
      "text/plain": [
       "DeviceArray(1, dtype=int32)"
      ]
     },
     "execution_count": 31,
     "metadata": {},
     "output_type": "execute_result"
    }
   ],
   "source": [
    "random_selection = jax.random.choice(key_2, sample_data)\n",
    "random_selection"
   ]
  },
  {
   "cell_type": "markdown",
   "id": "93e51052",
   "metadata": {
    "papermill": {
     "duration": 0.123834,
     "end_time": "2022-03-24T14:49:36.912343",
     "exception": false,
     "start_time": "2022-03-24T14:49:36.788509",
     "status": "completed"
    },
    "tags": []
   },
   "source": [
    "**Exercise 26: Sample an integer between 10 and 24 using `key_3` and assign it to `sample_int`**"
   ]
  },
  {
   "cell_type": "code",
   "execution_count": 32,
   "id": "bb310672",
   "metadata": {
    "execution": {
     "iopub.execute_input": "2022-03-24T14:49:37.203111Z",
     "iopub.status.busy": "2022-03-24T14:49:37.202129Z",
     "iopub.status.idle": "2022-03-24T14:49:38.117655Z",
     "shell.execute_reply": "2022-03-24T14:49:38.118402Z",
     "shell.execute_reply.started": "2022-03-24T05:58:00.395487Z"
    },
    "papermill": {
     "duration": 1.080866,
     "end_time": "2022-03-24T14:49:38.118650",
     "exception": false,
     "start_time": "2022-03-24T14:49:37.037784",
     "status": "completed"
    },
    "tags": []
   },
   "outputs": [
    {
     "data": {
      "text/plain": [
       "DeviceArray([14], dtype=int32)"
      ]
     },
     "execution_count": 32,
     "metadata": {},
     "output_type": "execute_result"
    }
   ],
   "source": [
    "sample_int = jax.random.randint(key_3, shape=(1,), minval=10, maxval=24)\n",
    "sample_int"
   ]
  },
  {
   "cell_type": "markdown",
   "id": "cf87bade",
   "metadata": {
    "papermill": {
     "duration": 0.12198,
     "end_time": "2022-03-24T14:49:38.365508",
     "exception": false,
     "start_time": "2022-03-24T14:49:38.243528",
     "status": "completed"
    },
    "tags": []
   },
   "source": [
    "**Exercise 27: Sample two values from uniform distribution between 1 and 2 using `key_4` and assign it to `sample_uniform`**"
   ]
  },
  {
   "cell_type": "code",
   "execution_count": 33,
   "id": "d4c05dfd",
   "metadata": {
    "execution": {
     "iopub.execute_input": "2022-03-24T14:49:38.628883Z",
     "iopub.status.busy": "2022-03-24T14:49:38.627987Z",
     "iopub.status.idle": "2022-03-24T14:49:38.870888Z",
     "shell.execute_reply": "2022-03-24T14:49:38.871605Z",
     "shell.execute_reply.started": "2022-03-24T05:58:00.40706Z"
    },
    "papermill": {
     "duration": 0.381484,
     "end_time": "2022-03-24T14:49:38.871843",
     "exception": false,
     "start_time": "2022-03-24T14:49:38.490359",
     "status": "completed"
    },
    "tags": []
   },
   "outputs": [
    {
     "data": {
      "text/plain": [
       "DeviceArray([1.6274643, 1.1133162], dtype=float32)"
      ]
     },
     "execution_count": 33,
     "metadata": {},
     "output_type": "execute_result"
    }
   ],
   "source": [
    "sample_uniform = jax.random.uniform(key_4, shape=(2,), minval=1, maxval=2)\n",
    "sample_uniform"
   ]
  },
  {
   "cell_type": "markdown",
   "id": "2413d4fb",
   "metadata": {
    "papermill": {
     "duration": 0.125862,
     "end_time": "2022-03-24T14:49:39.121336",
     "exception": false,
     "start_time": "2022-03-24T14:49:38.995474",
     "status": "completed"
    },
    "tags": []
   },
   "source": [
    "**Exercise 28: Sample three values from bernoulli distribution using `key_5` and assign it to `sample_bernoulli`**"
   ]
  },
  {
   "cell_type": "code",
   "execution_count": 34,
   "id": "c618901d",
   "metadata": {
    "execution": {
     "iopub.execute_input": "2022-03-24T14:49:39.378360Z",
     "iopub.status.busy": "2022-03-24T14:49:39.377449Z",
     "iopub.status.idle": "2022-03-24T14:49:39.671444Z",
     "shell.execute_reply": "2022-03-24T14:49:39.672219Z",
     "shell.execute_reply.started": "2022-03-24T05:58:00.41701Z"
    },
    "papermill": {
     "duration": 0.425789,
     "end_time": "2022-03-24T14:49:39.672460",
     "exception": false,
     "start_time": "2022-03-24T14:49:39.246671",
     "status": "completed"
    },
    "tags": []
   },
   "outputs": [
    {
     "data": {
      "text/plain": [
       "DeviceArray([False,  True,  True], dtype=bool)"
      ]
     },
     "execution_count": 34,
     "metadata": {},
     "output_type": "execute_result"
    }
   ],
   "source": [
    "sample_bernoulli = jax.random.bernoulli(key_5, shape=(3,))\n",
    "sample_bernoulli"
   ]
  },
  {
   "cell_type": "markdown",
   "id": "093d2778",
   "metadata": {
    "papermill": {
     "duration": 0.122852,
     "end_time": "2022-03-24T14:49:39.918776",
     "exception": false,
     "start_time": "2022-03-24T14:49:39.795924",
     "status": "completed"
    },
    "tags": []
   },
   "source": [
    "**Exercise 29: Sample a 2x3 matrix from poisson distribution with λ=100 using `key_6` and assign it to `sample_poisson`**"
   ]
  },
  {
   "cell_type": "code",
   "execution_count": 35,
   "id": "655c2049",
   "metadata": {
    "execution": {
     "iopub.execute_input": "2022-03-24T14:49:40.174959Z",
     "iopub.status.busy": "2022-03-24T14:49:40.174075Z",
     "iopub.status.idle": "2022-03-24T14:49:41.806952Z",
     "shell.execute_reply": "2022-03-24T14:49:41.807697Z",
     "shell.execute_reply.started": "2022-03-24T05:58:00.432287Z"
    },
    "papermill": {
     "duration": 1.764716,
     "end_time": "2022-03-24T14:49:41.807941",
     "exception": false,
     "start_time": "2022-03-24T14:49:40.043225",
     "status": "completed"
    },
    "tags": []
   },
   "outputs": [
    {
     "data": {
      "text/plain": [
       "DeviceArray([[ 88,  82, 110],\n",
       "             [ 89,  85,  98]], dtype=int32)"
      ]
     },
     "execution_count": 35,
     "metadata": {},
     "output_type": "execute_result"
    }
   ],
   "source": [
    "sample_poisson = jax.random.poisson(key_6, shape=(2, 3), lam=100)\n",
    "sample_poisson"
   ]
  },
  {
   "cell_type": "markdown",
   "id": "c96ec8c0",
   "metadata": {
    "papermill": {
     "duration": 0.125654,
     "end_time": "2022-03-24T14:49:42.063179",
     "exception": false,
     "start_time": "2022-03-24T14:49:41.937525",
     "status": "completed"
    },
    "tags": []
   },
   "source": [
    "**Exercise 30: Sample a 2x3x4 array from normal distribution using `key_7` and assign it to `sample_normal`**"
   ]
  },
  {
   "cell_type": "code",
   "execution_count": 36,
   "id": "b25d56d0",
   "metadata": {
    "execution": {
     "iopub.execute_input": "2022-03-24T14:49:42.362747Z",
     "iopub.status.busy": "2022-03-24T14:49:42.336973Z",
     "iopub.status.idle": "2022-03-24T14:49:42.631454Z",
     "shell.execute_reply": "2022-03-24T14:49:42.632788Z",
     "shell.execute_reply.started": "2022-03-24T05:58:00.446535Z"
    },
    "papermill": {
     "duration": 0.444103,
     "end_time": "2022-03-24T14:49:42.633043",
     "exception": false,
     "start_time": "2022-03-24T14:49:42.188940",
     "status": "completed"
    },
    "tags": []
   },
   "outputs": [
    {
     "data": {
      "text/plain": [
       "DeviceArray([[[ 0.25418088,  1.1962731 ,  1.3234351 ,  0.79711384],\n",
       "              [-1.8524722 , -0.28634202,  0.2251514 , -0.6195333 ],\n",
       "              [ 2.4013765 ,  0.07618266,  1.2277839 , -0.7562425 ]],\n",
       "\n",
       "             [[-0.45340484,  1.1029627 , -0.39860612, -1.1235143 ],\n",
       "              [-1.5689532 ,  0.4617323 , -0.5607138 , -1.7508575 ],\n",
       "              [ 0.50200105, -1.4972546 , -1.6995528 ,  0.5555226 ]]],            dtype=float32)"
      ]
     },
     "execution_count": 36,
     "metadata": {},
     "output_type": "execute_result"
    }
   ],
   "source": [
    "sample_normal = jax.random.normal(key_7, shape=(2, 3, 4))\n",
    "sample_normal"
   ]
  },
  {
   "cell_type": "markdown",
   "id": "1a8b0bcd",
   "metadata": {
    "papermill": {
     "duration": 0.12773,
     "end_time": "2022-03-24T14:49:42.907919",
     "exception": false,
     "start_time": "2022-03-24T14:49:42.780189",
     "status": "completed"
    },
    "tags": []
   },
   "source": [
    "**Exercise 31: JIT-compile the `cube` function and assign it to `cube_jit`**"
   ]
  },
  {
   "cell_type": "code",
   "execution_count": 37,
   "id": "fde842c4",
   "metadata": {
    "execution": {
     "iopub.execute_input": "2022-03-24T14:49:43.167495Z",
     "iopub.status.busy": "2022-03-24T14:49:43.166513Z",
     "iopub.status.idle": "2022-03-24T14:49:43.170460Z",
     "shell.execute_reply": "2022-03-24T14:49:43.171156Z",
     "shell.execute_reply.started": "2022-03-24T05:58:00.458418Z"
    },
    "papermill": {
     "duration": 0.137776,
     "end_time": "2022-03-24T14:49:43.171371",
     "exception": false,
     "start_time": "2022-03-24T14:49:43.033595",
     "status": "completed"
    },
    "tags": []
   },
   "outputs": [
    {
     "data": {
      "text/plain": [
       "<CompiledFunction at 0x7f0f80780d70>"
      ]
     },
     "execution_count": 37,
     "metadata": {},
     "output_type": "execute_result"
    }
   ],
   "source": [
    "cube_jit = jax.jit(cube)\n",
    "cube_jit"
   ]
  },
  {
   "cell_type": "markdown",
   "id": "8b5daf05",
   "metadata": {
    "papermill": {
     "duration": 0.124314,
     "end_time": "2022-03-24T14:49:43.421343",
     "exception": false,
     "start_time": "2022-03-24T14:49:43.297029",
     "status": "completed"
    },
    "tags": []
   },
   "source": [
    "**Exercise 32: Display the execution time of `cube_jit` for first run (with overhead) with input=10.24**"
   ]
  },
  {
   "cell_type": "code",
   "execution_count": 38,
   "id": "4a267c0d",
   "metadata": {
    "execution": {
     "iopub.execute_input": "2022-03-24T14:49:43.684050Z",
     "iopub.status.busy": "2022-03-24T14:49:43.683143Z",
     "iopub.status.idle": "2022-03-24T14:49:43.706376Z",
     "shell.execute_reply": "2022-03-24T14:49:43.707070Z",
     "shell.execute_reply.started": "2022-03-24T05:58:00.471281Z"
    },
    "papermill": {
     "duration": 0.159841,
     "end_time": "2022-03-24T14:49:43.707290",
     "exception": false,
     "start_time": "2022-03-24T14:49:43.547449",
     "status": "completed"
    },
    "tags": []
   },
   "outputs": [
    {
     "name": "stdout",
     "output_type": "stream",
     "text": [
      "CPU times: user 10.7 ms, sys: 12.2 ms, total: 22.9 ms\n",
      "Wall time: 18.7 ms\n"
     ]
    },
    {
     "data": {
      "text/plain": [
       "DeviceArray(1073.7418, dtype=float32)"
      ]
     },
     "execution_count": 38,
     "metadata": {},
     "output_type": "execute_result"
    }
   ],
   "source": [
    "%%time\n",
    "cube_jit(10.24)"
   ]
  },
  {
   "cell_type": "markdown",
   "id": "dbc0081f",
   "metadata": {
    "papermill": {
     "duration": 0.126457,
     "end_time": "2022-03-24T14:49:43.962780",
     "exception": false,
     "start_time": "2022-03-24T14:49:43.836323",
     "status": "completed"
    },
    "tags": []
   },
   "source": [
    "**Exercise 33: Display execution time of `cube_jit` for second run (without overhead) with input=10.24**"
   ]
  },
  {
   "cell_type": "code",
   "execution_count": 39,
   "id": "f3d4437b",
   "metadata": {
    "execution": {
     "iopub.execute_input": "2022-03-24T14:49:44.228292Z",
     "iopub.status.busy": "2022-03-24T14:49:44.227333Z",
     "iopub.status.idle": "2022-03-24T14:49:44.236661Z",
     "shell.execute_reply": "2022-03-24T14:49:44.235956Z",
     "shell.execute_reply.started": "2022-03-24T05:58:00.501235Z"
    },
    "papermill": {
     "duration": 0.144911,
     "end_time": "2022-03-24T14:49:44.236851",
     "exception": false,
     "start_time": "2022-03-24T14:49:44.091940",
     "status": "completed"
    },
    "tags": []
   },
   "outputs": [
    {
     "name": "stdout",
     "output_type": "stream",
     "text": [
      "CPU times: user 1.98 ms, sys: 1.97 ms, total: 3.95 ms\n",
      "Wall time: 2.3 ms\n"
     ]
    },
    {
     "data": {
      "text/plain": [
       "DeviceArray(1073.7418, dtype=float32)"
      ]
     },
     "execution_count": 39,
     "metadata": {},
     "output_type": "execute_result"
    }
   ],
   "source": [
    "%%time\n",
    "cube_jit(10.24)"
   ]
  },
  {
   "cell_type": "markdown",
   "id": "2de0234e",
   "metadata": {
    "papermill": {
     "duration": 0.126819,
     "end_time": "2022-03-24T14:49:44.490178",
     "exception": false,
     "start_time": "2022-03-24T14:49:44.363359",
     "status": "completed"
    },
    "tags": []
   },
   "source": [
    "**Exercise 34: Run `cube_jit` with input=10.24 and assign it to `cube_value`**"
   ]
  },
  {
   "cell_type": "code",
   "execution_count": 40,
   "id": "bde0e04b",
   "metadata": {
    "execution": {
     "iopub.execute_input": "2022-03-24T14:49:44.753303Z",
     "iopub.status.busy": "2022-03-24T14:49:44.752328Z",
     "iopub.status.idle": "2022-03-24T14:49:44.759245Z",
     "shell.execute_reply": "2022-03-24T14:49:44.759992Z",
     "shell.execute_reply.started": "2022-03-24T05:58:00.512162Z"
    },
    "papermill": {
     "duration": 0.142182,
     "end_time": "2022-03-24T14:49:44.760215",
     "exception": false,
     "start_time": "2022-03-24T14:49:44.618033",
     "status": "completed"
    },
    "tags": []
   },
   "outputs": [
    {
     "data": {
      "text/plain": [
       "DeviceArray(1073.7418, dtype=float32)"
      ]
     },
     "execution_count": 40,
     "metadata": {},
     "output_type": "execute_result"
    }
   ],
   "source": [
    "cube_value = cube_jit(10.24)\n",
    "cube_value"
   ]
  },
  {
   "cell_type": "markdown",
   "id": "e97d995e",
   "metadata": {
    "papermill": {
     "duration": 0.127859,
     "end_time": "2022-03-24T14:49:45.017009",
     "exception": false,
     "start_time": "2022-03-24T14:49:44.889150",
     "status": "completed"
    },
    "tags": []
   },
   "source": [
    "**Exercise 35: Run `cube_jit` with jit disabled and input=10.24 and assign it to `cube_value_nojit`**"
   ]
  },
  {
   "cell_type": "code",
   "execution_count": 41,
   "id": "50c6c804",
   "metadata": {
    "execution": {
     "iopub.execute_input": "2022-03-24T14:49:45.283938Z",
     "iopub.status.busy": "2022-03-24T14:49:45.282926Z",
     "iopub.status.idle": "2022-03-24T14:49:45.287021Z",
     "shell.execute_reply": "2022-03-24T14:49:45.287737Z",
     "shell.execute_reply.started": "2022-03-24T05:58:00.523532Z"
    },
    "papermill": {
     "duration": 0.140152,
     "end_time": "2022-03-24T14:49:45.287960",
     "exception": false,
     "start_time": "2022-03-24T14:49:45.147808",
     "status": "completed"
    },
    "tags": []
   },
   "outputs": [
    {
     "data": {
      "text/plain": [
       "1073.7418240000002"
      ]
     },
     "execution_count": 41,
     "metadata": {},
     "output_type": "execute_result"
    }
   ],
   "source": [
    "with jax.disable_jit():\n",
    "    cube_value_nojit = cube_jit(10.24)\n",
    "\n",
    "cube_value_nojit"
   ]
  },
  {
   "cell_type": "markdown",
   "id": "2eaa7e42",
   "metadata": {
    "papermill": {
     "duration": 0.12858,
     "end_time": "2022-03-24T14:49:45.545976",
     "exception": false,
     "start_time": "2022-03-24T14:49:45.417396",
     "status": "completed"
    },
    "tags": []
   },
   "source": [
    "**Exercise 36: Evaluate the shape of `cube_jit` with input=10.24 and assign it to `cube_shape`**"
   ]
  },
  {
   "cell_type": "code",
   "execution_count": 42,
   "id": "de204ad1",
   "metadata": {
    "execution": {
     "iopub.execute_input": "2022-03-24T14:49:45.814872Z",
     "iopub.status.busy": "2022-03-24T14:49:45.813899Z",
     "iopub.status.idle": "2022-03-24T14:49:45.817897Z",
     "shell.execute_reply": "2022-03-24T14:49:45.818614Z",
     "shell.execute_reply.started": "2022-03-24T05:58:00.533808Z"
    },
    "papermill": {
     "duration": 0.142115,
     "end_time": "2022-03-24T14:49:45.818834",
     "exception": false,
     "start_time": "2022-03-24T14:49:45.676719",
     "status": "completed"
    },
    "tags": []
   },
   "outputs": [
    {
     "data": {
      "text/plain": [
       "ShapeDtypeStruct(shape=(), dtype=float32)"
      ]
     },
     "execution_count": 42,
     "metadata": {},
     "output_type": "execute_result"
    }
   ],
   "source": [
    "cube_shape = jax.eval_shape(cube_jit, 10.24)\n",
    "cube_shape"
   ]
  },
  {
   "cell_type": "markdown",
   "id": "cde72860",
   "metadata": {
    "papermill": {
     "duration": 0.130742,
     "end_time": "2022-03-24T14:49:46.080732",
     "exception": false,
     "start_time": "2022-03-24T14:49:45.949990",
     "status": "completed"
    },
    "tags": []
   },
   "source": [
    "**Exercise 37: Create the jaxpr of `cube_jit` with input=10.24 and assign it to `cube_jaxpr`**"
   ]
  },
  {
   "cell_type": "code",
   "execution_count": 43,
   "id": "9d7ce927",
   "metadata": {
    "execution": {
     "iopub.execute_input": "2022-03-24T14:49:46.349231Z",
     "iopub.status.busy": "2022-03-24T14:49:46.348112Z",
     "iopub.status.idle": "2022-03-24T14:49:46.351868Z",
     "shell.execute_reply": "2022-03-24T14:49:46.352574Z",
     "shell.execute_reply.started": "2022-03-24T05:58:00.549143Z"
    },
    "papermill": {
     "duration": 0.141251,
     "end_time": "2022-03-24T14:49:46.352817",
     "exception": false,
     "start_time": "2022-03-24T14:49:46.211566",
     "status": "completed"
    },
    "tags": []
   },
   "outputs": [
    {
     "data": {
      "text/plain": [
       "{ lambda  ; a.\n",
       "  let b = xla_call[ backend=None\n",
       "                    call_jaxpr={ lambda  ; a.\n",
       "                                 let b = integer_pow[ y=3 ] a\n",
       "                                 in (b,) }\n",
       "                    device=None\n",
       "                    donated_invars=(False,)\n",
       "                    inline=False\n",
       "                    name=cube ] a\n",
       "  in (b,) }"
      ]
     },
     "execution_count": 43,
     "metadata": {},
     "output_type": "execute_result"
    }
   ],
   "source": [
    "cube_jaxpr = jax.make_jaxpr(cube_jit)(10.24)\n",
    "cube_jaxpr"
   ]
  },
  {
   "cell_type": "markdown",
   "id": "62f3d6e6",
   "metadata": {
    "papermill": {
     "duration": 0.128446,
     "end_time": "2022-03-24T14:49:46.612851",
     "exception": false,
     "start_time": "2022-03-24T14:49:46.484405",
     "status": "completed"
    },
    "tags": []
   },
   "source": [
    "**Exercise 38: Assign the XLA computation of `cube_jit` with input=10.24 to `cube_xla` and print it's XLA HLO text**"
   ]
  },
  {
   "cell_type": "code",
   "execution_count": 44,
   "id": "b74ac4fb",
   "metadata": {
    "execution": {
     "iopub.execute_input": "2022-03-24T14:49:46.898254Z",
     "iopub.status.busy": "2022-03-24T14:49:46.897302Z",
     "iopub.status.idle": "2022-03-24T14:49:46.901209Z",
     "shell.execute_reply": "2022-03-24T14:49:46.901983Z",
     "shell.execute_reply.started": "2022-03-24T05:58:00.566483Z"
    },
    "papermill": {
     "duration": 0.160706,
     "end_time": "2022-03-24T14:49:46.902215",
     "exception": false,
     "start_time": "2022-03-24T14:49:46.741509",
     "status": "completed"
    },
    "tags": []
   },
   "outputs": [
    {
     "name": "stdout",
     "output_type": "stream",
     "text": [
      "HloModule xla_computation_cube.12\n",
      "\n",
      "jit_cube__1.3 {\n",
      "  constant.5 = pred[] constant(false)\n",
      "  parameter.4 = f32[] parameter(0)\n",
      "  multiply.6 = f32[] multiply(parameter.4, parameter.4)\n",
      "  multiply.7 = f32[] multiply(parameter.4, multiply.6)\n",
      "  ROOT tuple.8 = (f32[]) tuple(multiply.7)\n",
      "}\n",
      "\n",
      "ENTRY xla_computation_cube.12 {\n",
      "  constant.2 = pred[] constant(false)\n",
      "  parameter.1 = f32[] parameter(0)\n",
      "  call.9 = (f32[]) call(parameter.1), to_apply=jit_cube__1.3\n",
      "  get-tuple-element.10 = f32[] get-tuple-element(call.9), index=0\n",
      "  ROOT tuple.11 = (f32[]) tuple(get-tuple-element.10)\n",
      "}\n",
      "\n",
      "\n"
     ]
    }
   ],
   "source": [
    "cube_xla = jax.xla_computation(cube_jit)(10.24)\n",
    "print(cube_xla.as_hlo_text())"
   ]
  },
  {
   "cell_type": "markdown",
   "id": "314e7e31",
   "metadata": {
    "papermill": {
     "duration": 0.13276,
     "end_time": "2022-03-24T14:49:47.169642",
     "exception": false,
     "start_time": "2022-03-24T14:49:47.036882",
     "status": "completed"
    },
    "tags": []
   },
   "source": [
    "**Exercise 39: Use the name `jaxton_cube_fn` internally for the `cube_jit` function and assign the named function to `cube_named_jit`**"
   ]
  },
  {
   "cell_type": "code",
   "execution_count": 45,
   "id": "40490928",
   "metadata": {
    "execution": {
     "iopub.execute_input": "2022-03-24T14:49:47.436830Z",
     "iopub.status.busy": "2022-03-24T14:49:47.435858Z",
     "iopub.status.idle": "2022-03-24T14:49:47.439415Z",
     "shell.execute_reply": "2022-03-24T14:49:47.440127Z",
     "shell.execute_reply.started": "2022-03-24T05:58:00.582705Z"
    },
    "papermill": {
     "duration": 0.141237,
     "end_time": "2022-03-24T14:49:47.440354",
     "exception": false,
     "start_time": "2022-03-24T14:49:47.299117",
     "status": "completed"
    },
    "tags": []
   },
   "outputs": [
    {
     "data": {
      "text/plain": [
       "<function __main__.cube(x)>"
      ]
     },
     "execution_count": 45,
     "metadata": {},
     "output_type": "execute_result"
    }
   ],
   "source": [
    "cube_named_jit = jax.named_call(cube_jit, name='jaxton_cube_fn')\n",
    "cube_named_jit"
   ]
  },
  {
   "cell_type": "markdown",
   "id": "41ff1e55",
   "metadata": {
    "papermill": {
     "duration": 0.129717,
     "end_time": "2022-03-24T14:49:47.700217",
     "exception": false,
     "start_time": "2022-03-24T14:49:47.570500",
     "status": "completed"
    },
    "tags": []
   },
   "source": [
    "**Exercise 40: Assign the XLA computation of `cube_named_jit` with input=10.24 to `cube_named_xla` and print it's XLA HLO text**"
   ]
  },
  {
   "cell_type": "code",
   "execution_count": 46,
   "id": "6cf492e0",
   "metadata": {
    "execution": {
     "iopub.execute_input": "2022-03-24T14:49:47.976507Z",
     "iopub.status.busy": "2022-03-24T14:49:47.975490Z",
     "iopub.status.idle": "2022-03-24T14:49:47.979054Z",
     "shell.execute_reply": "2022-03-24T14:49:47.979793Z",
     "shell.execute_reply.started": "2022-03-24T05:58:00.596908Z"
    },
    "papermill": {
     "duration": 0.148048,
     "end_time": "2022-03-24T14:49:47.980031",
     "exception": false,
     "start_time": "2022-03-24T14:49:47.831983",
     "status": "completed"
    },
    "tags": []
   },
   "outputs": [
    {
     "name": "stdout",
     "output_type": "stream",
     "text": [
      "HloModule xla_computation_cube__1.18\n",
      "\n",
      "jit_cube__2.3 {\n",
      "  constant.5 = pred[] constant(false)\n",
      "  parameter.4 = f32[] parameter(0)\n",
      "  multiply.6 = f32[] multiply(parameter.4, parameter.4)\n",
      "  multiply.7 = f32[] multiply(parameter.4, multiply.6)\n",
      "  ROOT tuple.8 = (f32[]) tuple(multiply.7)\n",
      "}\n",
      "\n",
      "jaxton_cube_fn.9 {\n",
      "  constant.11 = pred[] constant(false)\n",
      "  parameter.10 = f32[] parameter(0)\n",
      "  call.12 = (f32[]) call(parameter.10), to_apply=jit_cube__2.3\n",
      "  get-tuple-element.13 = f32[] get-tuple-element(call.12), index=0\n",
      "  ROOT tuple.14 = (f32[]) tuple(get-tuple-element.13)\n",
      "}\n",
      "\n",
      "ENTRY xla_computation_cube__1.18 {\n",
      "  constant.2 = pred[] constant(false)\n",
      "  parameter.1 = f32[] parameter(0)\n",
      "  call.15 = (f32[]) call(parameter.1), to_apply=jaxton_cube_fn.9\n",
      "  get-tuple-element.16 = f32[] get-tuple-element(call.15), index=0\n",
      "  ROOT tuple.17 = (f32[]) tuple(get-tuple-element.16)\n",
      "}\n",
      "\n",
      "\n"
     ]
    }
   ],
   "source": [
    "cube_named_xla = jax.xla_computation(cube_named_jit)(10.24)\n",
    "print(cube_named_xla.as_hlo_text())"
   ]
  },
  {
   "cell_type": "markdown",
   "id": "dd682ab4",
   "metadata": {
    "papermill": {
     "duration": 0.132319,
     "end_time": "2022-03-24T14:49:48.249093",
     "exception": false,
     "start_time": "2022-03-24T14:49:48.116774",
     "status": "completed"
    },
    "tags": []
   },
   "source": [
    "**Exercise 41: Calculate the cumulative sum of `sample_data` using the associative scan operator and assign it to `data_cumsum`**"
   ]
  },
  {
   "cell_type": "code",
   "execution_count": 47,
   "id": "81dcaf23",
   "metadata": {
    "execution": {
     "iopub.execute_input": "2022-03-24T14:49:48.519362Z",
     "iopub.status.busy": "2022-03-24T14:49:48.518422Z",
     "iopub.status.idle": "2022-03-24T14:49:48.836606Z",
     "shell.execute_reply": "2022-03-24T14:49:48.837348Z",
     "shell.execute_reply.started": "2022-03-24T05:58:00.611784Z"
    },
    "papermill": {
     "duration": 0.455653,
     "end_time": "2022-03-24T14:49:48.837600",
     "exception": false,
     "start_time": "2022-03-24T14:49:48.381947",
     "status": "completed"
    },
    "tags": []
   },
   "outputs": [
    {
     "data": {
      "text/plain": [
       "DeviceArray([10, 11, 35, 55, 70, 84], dtype=int32)"
      ]
     },
     "execution_count": 47,
     "metadata": {},
     "output_type": "execute_result"
    }
   ],
   "source": [
    "data_cumsum = jax.lax.associative_scan(jnp.add, sample_data)\n",
    "data_cumsum"
   ]
  },
  {
   "cell_type": "markdown",
   "id": "38f6e4b3",
   "metadata": {
    "papermill": {
     "duration": 0.132713,
     "end_time": "2022-03-24T14:49:49.105621",
     "exception": false,
     "start_time": "2022-03-24T14:49:48.972908",
     "status": "completed"
    },
    "tags": []
   },
   "source": [
    "**Exercise 42: Calculate the cumulative sum of `sample_data` in reverse order using the associative scan operator and assign it to `data_cumsum_reverse`**"
   ]
  },
  {
   "cell_type": "code",
   "execution_count": 48,
   "id": "c5738b9c",
   "metadata": {
    "execution": {
     "iopub.execute_input": "2022-03-24T14:49:49.382385Z",
     "iopub.status.busy": "2022-03-24T14:49:49.381477Z",
     "iopub.status.idle": "2022-03-24T14:49:49.437009Z",
     "shell.execute_reply": "2022-03-24T14:49:49.437894Z",
     "shell.execute_reply.started": "2022-03-24T06:16:17.858362Z"
    },
    "papermill": {
     "duration": 0.19892,
     "end_time": "2022-03-24T14:49:49.438186",
     "exception": false,
     "start_time": "2022-03-24T14:49:49.239266",
     "status": "completed"
    },
    "tags": []
   },
   "outputs": [
    {
     "data": {
      "text/plain": [
       "DeviceArray([84, 74, 73, 49, 29, 14], dtype=int32)"
      ]
     },
     "execution_count": 48,
     "metadata": {},
     "output_type": "execute_result"
    }
   ],
   "source": [
    "data_cumsum_reverse = jax.lax.associative_scan(jnp.add, sample_data, reverse=True)\n",
    "data_cumsum_reverse"
   ]
  },
  {
   "cell_type": "markdown",
   "id": "d86f48f0",
   "metadata": {
    "papermill": {
     "duration": 0.131666,
     "end_time": "2022-03-24T14:49:49.702620",
     "exception": false,
     "start_time": "2022-03-24T14:49:49.570954",
     "status": "completed"
    },
    "tags": []
   },
   "source": [
    "**Exercise 43: Create a JIT-compiled lambda function that outputs `square` of input if it is even and `cube` of input if it is odd using the cond operator and assign it to `parity_ifelse`**"
   ]
  },
  {
   "cell_type": "code",
   "execution_count": 49,
   "id": "c9b903b2",
   "metadata": {
    "execution": {
     "iopub.execute_input": "2022-03-24T14:49:49.975994Z",
     "iopub.status.busy": "2022-03-24T14:49:49.975018Z",
     "iopub.status.idle": "2022-03-24T14:49:49.978459Z",
     "shell.execute_reply": "2022-03-24T14:49:49.979243Z",
     "shell.execute_reply.started": "2022-03-24T05:58:00.627452Z"
    },
    "papermill": {
     "duration": 0.145009,
     "end_time": "2022-03-24T14:49:49.979468",
     "exception": false,
     "start_time": "2022-03-24T14:49:49.834459",
     "status": "completed"
    },
    "tags": []
   },
   "outputs": [
    {
     "data": {
      "text/plain": [
       "<CompiledFunction at 0x7f0f80780410>"
      ]
     },
     "execution_count": 49,
     "metadata": {},
     "output_type": "execute_result"
    }
   ],
   "source": [
    "parity_ifelse = jax.jit(lambda x: jax.lax.cond(jnp.remainder(x, 2) == 0, square, cube, x))\n",
    "parity_ifelse"
   ]
  },
  {
   "cell_type": "markdown",
   "id": "ac4e5c31",
   "metadata": {
    "papermill": {
     "duration": 0.133859,
     "end_time": "2022-03-24T14:49:50.246575",
     "exception": false,
     "start_time": "2022-03-24T14:49:50.112716",
     "status": "completed"
    },
    "tags": []
   },
   "source": [
    "**Exercise 44: Run `parity_ifelse` with the first element of `data_cumsum` and assign it to `parity_1`**"
   ]
  },
  {
   "cell_type": "code",
   "execution_count": 50,
   "id": "32388c4f",
   "metadata": {
    "execution": {
     "iopub.execute_input": "2022-03-24T14:49:50.519941Z",
     "iopub.status.busy": "2022-03-24T14:49:50.518933Z",
     "iopub.status.idle": "2022-03-24T14:49:50.575984Z",
     "shell.execute_reply": "2022-03-24T14:49:50.576679Z",
     "shell.execute_reply.started": "2022-03-24T05:58:00.637139Z"
    },
    "papermill": {
     "duration": 0.198661,
     "end_time": "2022-03-24T14:49:50.577113",
     "exception": false,
     "start_time": "2022-03-24T14:49:50.378452",
     "status": "completed"
    },
    "tags": []
   },
   "outputs": [
    {
     "data": {
      "text/plain": [
       "DeviceArray(100, dtype=int32)"
      ]
     },
     "execution_count": 50,
     "metadata": {},
     "output_type": "execute_result"
    }
   ],
   "source": [
    "parity_1 = parity_ifelse(data_cumsum[0])\n",
    "parity_1"
   ]
  },
  {
   "cell_type": "markdown",
   "id": "93653935",
   "metadata": {
    "papermill": {
     "duration": 0.133958,
     "end_time": "2022-03-24T14:49:50.848318",
     "exception": false,
     "start_time": "2022-03-24T14:49:50.714360",
     "status": "completed"
    },
    "tags": []
   },
   "source": [
    "**Exercise 45: Run `parity_ifelse` with the second element of `data_cumsum` and assign it to `parity_2`**"
   ]
  },
  {
   "cell_type": "code",
   "execution_count": 51,
   "id": "ef04e11e",
   "metadata": {
    "execution": {
     "iopub.execute_input": "2022-03-24T14:49:51.123654Z",
     "iopub.status.busy": "2022-03-24T14:49:51.122411Z",
     "iopub.status.idle": "2022-03-24T14:49:51.135180Z",
     "shell.execute_reply": "2022-03-24T14:49:51.135888Z",
     "shell.execute_reply.started": "2022-03-24T05:58:00.683756Z"
    },
    "papermill": {
     "duration": 0.153504,
     "end_time": "2022-03-24T14:49:51.136118",
     "exception": false,
     "start_time": "2022-03-24T14:49:50.982614",
     "status": "completed"
    },
    "tags": []
   },
   "outputs": [
    {
     "data": {
      "text/plain": [
       "DeviceArray(1331, dtype=int32)"
      ]
     },
     "execution_count": 51,
     "metadata": {},
     "output_type": "execute_result"
    }
   ],
   "source": [
    "parity_2 = parity_ifelse(data_cumsum[1])\n",
    "parity_2"
   ]
  },
  {
   "cell_type": "markdown",
   "id": "e722c0a6",
   "metadata": {
    "papermill": {
     "duration": 0.132048,
     "end_time": "2022-03-24T14:49:51.400942",
     "exception": false,
     "start_time": "2022-03-24T14:49:51.268894",
     "status": "completed"
    },
    "tags": []
   },
   "source": [
    "**Exercise 46: Create a JIT-compiled lambda function that outputs `square` of input if it is even and `cube` of input if it is odd using the switch operator and assign it to `parity_switch`**"
   ]
  },
  {
   "cell_type": "code",
   "execution_count": 52,
   "id": "144c4418",
   "metadata": {
    "execution": {
     "iopub.execute_input": "2022-03-24T14:49:51.679483Z",
     "iopub.status.busy": "2022-03-24T14:49:51.678518Z",
     "iopub.status.idle": "2022-03-24T14:49:51.681923Z",
     "shell.execute_reply": "2022-03-24T14:49:51.682624Z",
     "shell.execute_reply.started": "2022-03-24T05:58:00.693813Z"
    },
    "papermill": {
     "duration": 0.148837,
     "end_time": "2022-03-24T14:49:51.682846",
     "exception": false,
     "start_time": "2022-03-24T14:49:51.534009",
     "status": "completed"
    },
    "tags": []
   },
   "outputs": [
    {
     "data": {
      "text/plain": [
       "<CompiledFunction at 0x7f0f80780aa0>"
      ]
     },
     "execution_count": 52,
     "metadata": {},
     "output_type": "execute_result"
    }
   ],
   "source": [
    "parity_switch = jax.jit(lambda x: jax.lax.switch(jnp.remainder(x, 2), [square, cube], x))\n",
    "parity_switch"
   ]
  },
  {
   "cell_type": "markdown",
   "id": "a316849a",
   "metadata": {
    "papermill": {
     "duration": 0.136635,
     "end_time": "2022-03-24T14:49:51.955937",
     "exception": false,
     "start_time": "2022-03-24T14:49:51.819302",
     "status": "completed"
    },
    "tags": []
   },
   "source": [
    "**Exercise 47: Run `parity_switch` with the fourth element of `data_cumsum` and assign it to `parity_4`**"
   ]
  },
  {
   "cell_type": "code",
   "execution_count": 53,
   "id": "3a3f515d",
   "metadata": {
    "execution": {
     "iopub.execute_input": "2022-03-24T14:49:52.227444Z",
     "iopub.status.busy": "2022-03-24T14:49:52.226495Z",
     "iopub.status.idle": "2022-03-24T14:49:52.281509Z",
     "shell.execute_reply": "2022-03-24T14:49:52.282183Z",
     "shell.execute_reply.started": "2022-03-24T05:58:00.709166Z"
    },
    "papermill": {
     "duration": 0.191291,
     "end_time": "2022-03-24T14:49:52.282423",
     "exception": false,
     "start_time": "2022-03-24T14:49:52.091132",
     "status": "completed"
    },
    "tags": []
   },
   "outputs": [
    {
     "data": {
      "text/plain": [
       "DeviceArray(166375, dtype=int32)"
      ]
     },
     "execution_count": 53,
     "metadata": {},
     "output_type": "execute_result"
    }
   ],
   "source": [
    "parity_4 = parity_switch(data_cumsum[3])\n",
    "parity_4"
   ]
  },
  {
   "cell_type": "markdown",
   "id": "708360e7",
   "metadata": {
    "papermill": {
     "duration": 0.136048,
     "end_time": "2022-03-24T14:49:52.554260",
     "exception": false,
     "start_time": "2022-03-24T14:49:52.418212",
     "status": "completed"
    },
    "tags": []
   },
   "source": [
    "**Exercise 48: Run `parity_switch` with the fifth element of `data_cumsum` and assign it to `parity_5`**"
   ]
  },
  {
   "cell_type": "code",
   "execution_count": 54,
   "id": "b83573c7",
   "metadata": {
    "execution": {
     "iopub.execute_input": "2022-03-24T14:49:52.830731Z",
     "iopub.status.busy": "2022-03-24T14:49:52.829799Z",
     "iopub.status.idle": "2022-03-24T14:49:52.846442Z",
     "shell.execute_reply": "2022-03-24T14:49:52.847187Z",
     "shell.execute_reply.started": "2022-03-24T05:58:00.757422Z"
    },
    "papermill": {
     "duration": 0.157356,
     "end_time": "2022-03-24T14:49:52.847430",
     "exception": false,
     "start_time": "2022-03-24T14:49:52.690074",
     "status": "completed"
    },
    "tags": []
   },
   "outputs": [
    {
     "data": {
      "text/plain": [
       "DeviceArray(4900, dtype=int32)"
      ]
     },
     "execution_count": 54,
     "metadata": {},
     "output_type": "execute_result"
    }
   ],
   "source": [
    "parity_5 = parity_switch(data_cumsum[4])\n",
    "parity_5"
   ]
  },
  {
   "cell_type": "markdown",
   "id": "f37b43aa",
   "metadata": {
    "papermill": {
     "duration": 0.135623,
     "end_time": "2022-03-24T14:49:53.119674",
     "exception": false,
     "start_time": "2022-03-24T14:49:52.984051",
     "status": "completed"
    },
    "tags": []
   },
   "source": [
    "**Exercise 49: Calculate the sum of the first four elements of `data_cumsum` using the for operator and assign it to `sum_four`**"
   ]
  },
  {
   "cell_type": "code",
   "execution_count": 55,
   "id": "07447922",
   "metadata": {
    "execution": {
     "iopub.execute_input": "2022-03-24T14:49:53.403247Z",
     "iopub.status.busy": "2022-03-24T14:49:53.398108Z",
     "iopub.status.idle": "2022-03-24T14:49:53.458787Z",
     "shell.execute_reply": "2022-03-24T14:49:53.458024Z",
     "shell.execute_reply.started": "2022-03-24T05:58:00.772215Z"
    },
    "papermill": {
     "duration": 0.198817,
     "end_time": "2022-03-24T14:49:53.458986",
     "exception": false,
     "start_time": "2022-03-24T14:49:53.260169",
     "status": "completed"
    },
    "tags": []
   },
   "outputs": [
    {
     "data": {
      "text/plain": [
       "DeviceArray(111, dtype=int32)"
      ]
     },
     "execution_count": 55,
     "metadata": {},
     "output_type": "execute_result"
    }
   ],
   "source": [
    "sum_four = jax.lax.fori_loop(0, 4, lambda i, x: x+data_cumsum[i], 0)\n",
    "sum_four"
   ]
  },
  {
   "cell_type": "markdown",
   "id": "93744fd3",
   "metadata": {
    "papermill": {
     "duration": 0.154685,
     "end_time": "2022-03-24T14:49:53.751879",
     "exception": false,
     "start_time": "2022-03-24T14:49:53.597194",
     "status": "completed"
    },
    "tags": []
   },
   "source": [
    "**Exercise 50: Keep subtracting 25 from `sum_four` until the result is negative using the while operator and assign it to `subtract_until_negative`**"
   ]
  },
  {
   "cell_type": "code",
   "execution_count": 56,
   "id": "f9b164db",
   "metadata": {
    "execution": {
     "iopub.execute_input": "2022-03-24T14:49:54.039826Z",
     "iopub.status.busy": "2022-03-24T14:49:54.038886Z",
     "iopub.status.idle": "2022-03-24T14:49:54.070671Z",
     "shell.execute_reply": "2022-03-24T14:49:54.069755Z",
     "shell.execute_reply.started": "2022-03-24T05:58:00.830445Z"
    },
    "papermill": {
     "duration": 0.181333,
     "end_time": "2022-03-24T14:49:54.070863",
     "exception": false,
     "start_time": "2022-03-24T14:49:53.889530",
     "status": "completed"
    },
    "tags": []
   },
   "outputs": [
    {
     "data": {
      "text/plain": [
       "DeviceArray(-14, dtype=int32)"
      ]
     },
     "execution_count": 56,
     "metadata": {},
     "output_type": "execute_result"
    }
   ],
   "source": [
    "subtract_until_negative = jax.lax.while_loop(lambda x: x>0, lambda x: x-25, sum_four)\n",
    "subtract_until_negative"
   ]
  },
  {
   "cell_type": "markdown",
   "id": "d28ea908",
   "metadata": {
    "papermill": {
     "duration": 0.13535,
     "end_time": "2022-03-24T14:49:54.345732",
     "exception": false,
     "start_time": "2022-03-24T14:49:54.210382",
     "status": "completed"
    },
    "tags": []
   },
   "source": [
    "<center>\n",
    "    All solutions of <b>JaxTon</b>: <i>💯 JAX exercises</i>\n",
    "    <br>\n",
    "    You can find individual sets of the exercises and solutions on <a href=\"https://github.com/vopani/jaxton#exercises-\">GitHub</a>\n",
    "</center>"
   ]
  }
 ],
 "metadata": {
  "kernelspec": {
   "display_name": "Python 3",
   "language": "python",
   "name": "python3"
  },
  "language_info": {
   "codemirror_mode": {
    "name": "ipython",
    "version": 3
   },
   "file_extension": ".py",
   "mimetype": "text/x-python",
   "name": "python",
   "nbconvert_exporter": "python",
   "pygments_lexer": "ipython3",
   "version": "3.7.10"
  },
  "papermill": {
   "default_parameters": {},
   "duration": 112.003437,
   "end_time": "2022-03-24T14:49:57.148090",
   "environment_variables": {},
   "exception": null,
   "input_path": "__notebook__.ipynb",
   "output_path": "__notebook__.ipynb",
   "parameters": {},
   "start_time": "2022-03-24T14:48:05.144653",
   "version": "2.3.3"
  }
 },
 "nbformat": 4,
 "nbformat_minor": 5
}
